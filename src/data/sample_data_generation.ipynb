{
 "cells": [
  {
   "cell_type": "code",
   "execution_count": 1,
   "metadata": {},
   "outputs": [],
   "source": [
    "import pandas as pd\n",
    "df = pd.read_csv(\"combined _cleaned.csv\")"
   ]
  },
  {
   "cell_type": "code",
   "execution_count": 6,
   "metadata": {},
   "outputs": [
    {
     "data": {
      "text/plain": [
       "(1474488, 12)"
      ]
     },
     "execution_count": 6,
     "metadata": {},
     "output_type": "execute_result"
    }
   ],
   "source": [
    "df.shape"
   ]
  },
  {
   "cell_type": "code",
   "execution_count": 2,
   "metadata": {},
   "outputs": [
    {
     "data": {
      "text/html": [
       "<div>\n",
       "<style scoped>\n",
       "    .dataframe tbody tr th:only-of-type {\n",
       "        vertical-align: middle;\n",
       "    }\n",
       "\n",
       "    .dataframe tbody tr th {\n",
       "        vertical-align: top;\n",
       "    }\n",
       "\n",
       "    .dataframe thead th {\n",
       "        text-align: right;\n",
       "    }\n",
       "</style>\n",
       "<table border=\"1\" class=\"dataframe\">\n",
       "  <thead>\n",
       "    <tr style=\"text-align: right;\">\n",
       "      <th></th>\n",
       "      <th>DATE</th>\n",
       "      <th>zipcode</th>\n",
       "      <th>zone</th>\n",
       "      <th>HourlyDryBulbTemperature</th>\n",
       "      <th>HourlyWetBulbTemperature</th>\n",
       "      <th>HourlyPrecipitation</th>\n",
       "      <th>HourlyRelativeHumidity</th>\n",
       "      <th>HourlyStationPressure</th>\n",
       "      <th>HourlyWindSpeed</th>\n",
       "      <th>HourlyWindGustSpeed</th>\n",
       "      <th>zone_load_total</th>\n",
       "      <th>zip_load_by_population</th>\n",
       "    </tr>\n",
       "  </thead>\n",
       "  <tbody>\n",
       "    <tr>\n",
       "      <th>0</th>\n",
       "      <td>2015-01-01 01:00:00</td>\n",
       "      <td>13790</td>\n",
       "      <td>Centrl</td>\n",
       "      <td>17.0</td>\n",
       "      <td>14.0</td>\n",
       "      <td>0.0</td>\n",
       "      <td>56.0</td>\n",
       "      <td>28.22</td>\n",
       "      <td>16.0</td>\n",
       "      <td>23.0</td>\n",
       "      <td>1557.0</td>\n",
       "      <td>19.595944</td>\n",
       "    </tr>\n",
       "    <tr>\n",
       "      <th>1</th>\n",
       "      <td>2015-01-01 02:00:00</td>\n",
       "      <td>13790</td>\n",
       "      <td>Centrl</td>\n",
       "      <td>16.0</td>\n",
       "      <td>13.0</td>\n",
       "      <td>0.0</td>\n",
       "      <td>56.0</td>\n",
       "      <td>28.21</td>\n",
       "      <td>14.0</td>\n",
       "      <td>22.0</td>\n",
       "      <td>1514.0</td>\n",
       "      <td>19.054759</td>\n",
       "    </tr>\n",
       "    <tr>\n",
       "      <th>2</th>\n",
       "      <td>2015-01-01 03:00:00</td>\n",
       "      <td>13790</td>\n",
       "      <td>Centrl</td>\n",
       "      <td>17.0</td>\n",
       "      <td>14.0</td>\n",
       "      <td>0.0</td>\n",
       "      <td>56.0</td>\n",
       "      <td>28.21</td>\n",
       "      <td>17.0</td>\n",
       "      <td>24.0</td>\n",
       "      <td>1506.0</td>\n",
       "      <td>18.954073</td>\n",
       "    </tr>\n",
       "    <tr>\n",
       "      <th>3</th>\n",
       "      <td>2015-01-01 04:00:00</td>\n",
       "      <td>13790</td>\n",
       "      <td>Centrl</td>\n",
       "      <td>17.0</td>\n",
       "      <td>14.0</td>\n",
       "      <td>0.0</td>\n",
       "      <td>54.0</td>\n",
       "      <td>28.21</td>\n",
       "      <td>14.0</td>\n",
       "      <td>21.0</td>\n",
       "      <td>1552.0</td>\n",
       "      <td>19.533016</td>\n",
       "    </tr>\n",
       "    <tr>\n",
       "      <th>4</th>\n",
       "      <td>2015-01-01 05:00:00</td>\n",
       "      <td>13790</td>\n",
       "      <td>Centrl</td>\n",
       "      <td>17.0</td>\n",
       "      <td>14.0</td>\n",
       "      <td>0.0</td>\n",
       "      <td>56.0</td>\n",
       "      <td>28.21</td>\n",
       "      <td>13.0</td>\n",
       "      <td>22.0</td>\n",
       "      <td>1581.0</td>\n",
       "      <td>19.898001</td>\n",
       "    </tr>\n",
       "  </tbody>\n",
       "</table>\n",
       "</div>"
      ],
      "text/plain": [
       "                  DATE  zipcode    zone  HourlyDryBulbTemperature  \\\n",
       "0  2015-01-01 01:00:00    13790  Centrl                      17.0   \n",
       "1  2015-01-01 02:00:00    13790  Centrl                      16.0   \n",
       "2  2015-01-01 03:00:00    13790  Centrl                      17.0   \n",
       "3  2015-01-01 04:00:00    13790  Centrl                      17.0   \n",
       "4  2015-01-01 05:00:00    13790  Centrl                      17.0   \n",
       "\n",
       "   HourlyWetBulbTemperature  HourlyPrecipitation  HourlyRelativeHumidity  \\\n",
       "0                      14.0                  0.0                    56.0   \n",
       "1                      13.0                  0.0                    56.0   \n",
       "2                      14.0                  0.0                    56.0   \n",
       "3                      14.0                  0.0                    54.0   \n",
       "4                      14.0                  0.0                    56.0   \n",
       "\n",
       "   HourlyStationPressure  HourlyWindSpeed  HourlyWindGustSpeed  \\\n",
       "0                  28.22             16.0                 23.0   \n",
       "1                  28.21             14.0                 22.0   \n",
       "2                  28.21             17.0                 24.0   \n",
       "3                  28.21             14.0                 21.0   \n",
       "4                  28.21             13.0                 22.0   \n",
       "\n",
       "   zone_load_total  zip_load_by_population  \n",
       "0           1557.0               19.595944  \n",
       "1           1514.0               19.054759  \n",
       "2           1506.0               18.954073  \n",
       "3           1552.0               19.533016  \n",
       "4           1581.0               19.898001  "
      ]
     },
     "execution_count": 2,
     "metadata": {},
     "output_type": "execute_result"
    }
   ],
   "source": [
    "df.head()"
   ]
  },
  {
   "cell_type": "code",
   "execution_count": 3,
   "metadata": {},
   "outputs": [],
   "source": [
    "df_sample = df[df[\"DATE\"].str.contains(\"2019-12\")]"
   ]
  },
  {
   "cell_type": "code",
   "execution_count": 7,
   "metadata": {},
   "outputs": [
    {
     "data": {
      "text/html": [
       "<div>\n",
       "<style scoped>\n",
       "    .dataframe tbody tr th:only-of-type {\n",
       "        vertical-align: middle;\n",
       "    }\n",
       "\n",
       "    .dataframe tbody tr th {\n",
       "        vertical-align: top;\n",
       "    }\n",
       "\n",
       "    .dataframe thead th {\n",
       "        text-align: right;\n",
       "    }\n",
       "</style>\n",
       "<table border=\"1\" class=\"dataframe\">\n",
       "  <thead>\n",
       "    <tr style=\"text-align: right;\">\n",
       "      <th></th>\n",
       "      <th>DATE</th>\n",
       "      <th>zipcode</th>\n",
       "      <th>zone</th>\n",
       "      <th>HourlyDryBulbTemperature</th>\n",
       "      <th>HourlyWetBulbTemperature</th>\n",
       "      <th>HourlyPrecipitation</th>\n",
       "      <th>HourlyRelativeHumidity</th>\n",
       "      <th>HourlyStationPressure</th>\n",
       "      <th>HourlyWindSpeed</th>\n",
       "      <th>HourlyWindGustSpeed</th>\n",
       "      <th>zone_load_total</th>\n",
       "      <th>zip_load_by_population</th>\n",
       "    </tr>\n",
       "  </thead>\n",
       "  <tbody>\n",
       "    <tr>\n",
       "      <th>42605</th>\n",
       "      <td>2019-12-01 00:00:00</td>\n",
       "      <td>13790</td>\n",
       "      <td>Centrl</td>\n",
       "      <td>19.0</td>\n",
       "      <td>18.0</td>\n",
       "      <td>0.0</td>\n",
       "      <td>81.0</td>\n",
       "      <td>28.21</td>\n",
       "      <td>5.0</td>\n",
       "      <td>0.0</td>\n",
       "      <td>1579.166667</td>\n",
       "      <td>19.874927</td>\n",
       "    </tr>\n",
       "    <tr>\n",
       "      <th>42606</th>\n",
       "      <td>2019-12-01 01:00:00</td>\n",
       "      <td>13790</td>\n",
       "      <td>Centrl</td>\n",
       "      <td>18.0</td>\n",
       "      <td>17.0</td>\n",
       "      <td>0.0</td>\n",
       "      <td>84.0</td>\n",
       "      <td>28.21</td>\n",
       "      <td>8.0</td>\n",
       "      <td>0.0</td>\n",
       "      <td>1539.166667</td>\n",
       "      <td>19.371499</td>\n",
       "    </tr>\n",
       "    <tr>\n",
       "      <th>42607</th>\n",
       "      <td>2019-12-01 02:00:00</td>\n",
       "      <td>13790</td>\n",
       "      <td>Centrl</td>\n",
       "      <td>17.0</td>\n",
       "      <td>16.0</td>\n",
       "      <td>0.0</td>\n",
       "      <td>88.0</td>\n",
       "      <td>28.20</td>\n",
       "      <td>5.0</td>\n",
       "      <td>0.0</td>\n",
       "      <td>1517.666667</td>\n",
       "      <td>19.100906</td>\n",
       "    </tr>\n",
       "    <tr>\n",
       "      <th>42608</th>\n",
       "      <td>2019-12-01 03:00:00</td>\n",
       "      <td>13790</td>\n",
       "      <td>Centrl</td>\n",
       "      <td>17.0</td>\n",
       "      <td>16.0</td>\n",
       "      <td>0.0</td>\n",
       "      <td>88.0</td>\n",
       "      <td>28.18</td>\n",
       "      <td>5.0</td>\n",
       "      <td>0.0</td>\n",
       "      <td>1508.833333</td>\n",
       "      <td>18.989733</td>\n",
       "    </tr>\n",
       "    <tr>\n",
       "      <th>42609</th>\n",
       "      <td>2019-12-01 04:00:00</td>\n",
       "      <td>13790</td>\n",
       "      <td>Centrl</td>\n",
       "      <td>17.0</td>\n",
       "      <td>16.0</td>\n",
       "      <td>0.0</td>\n",
       "      <td>88.0</td>\n",
       "      <td>28.15</td>\n",
       "      <td>5.0</td>\n",
       "      <td>0.0</td>\n",
       "      <td>1516.833333</td>\n",
       "      <td>19.090418</td>\n",
       "    </tr>\n",
       "  </tbody>\n",
       "</table>\n",
       "</div>"
      ],
      "text/plain": [
       "                      DATE  zipcode    zone  HourlyDryBulbTemperature  \\\n",
       "42605  2019-12-01 00:00:00    13790  Centrl                      19.0   \n",
       "42606  2019-12-01 01:00:00    13790  Centrl                      18.0   \n",
       "42607  2019-12-01 02:00:00    13790  Centrl                      17.0   \n",
       "42608  2019-12-01 03:00:00    13790  Centrl                      17.0   \n",
       "42609  2019-12-01 04:00:00    13790  Centrl                      17.0   \n",
       "\n",
       "       HourlyWetBulbTemperature  HourlyPrecipitation  HourlyRelativeHumidity  \\\n",
       "42605                      18.0                  0.0                    81.0   \n",
       "42606                      17.0                  0.0                    84.0   \n",
       "42607                      16.0                  0.0                    88.0   \n",
       "42608                      16.0                  0.0                    88.0   \n",
       "42609                      16.0                  0.0                    88.0   \n",
       "\n",
       "       HourlyStationPressure  HourlyWindSpeed  HourlyWindGustSpeed  \\\n",
       "42605                  28.21              5.0                  0.0   \n",
       "42606                  28.21              8.0                  0.0   \n",
       "42607                  28.20              5.0                  0.0   \n",
       "42608                  28.18              5.0                  0.0   \n",
       "42609                  28.15              5.0                  0.0   \n",
       "\n",
       "       zone_load_total  zip_load_by_population  \n",
       "42605      1579.166667               19.874927  \n",
       "42606      1539.166667               19.371499  \n",
       "42607      1517.666667               19.100906  \n",
       "42608      1508.833333               18.989733  \n",
       "42609      1516.833333               19.090418  "
      ]
     },
     "execution_count": 7,
     "metadata": {},
     "output_type": "execute_result"
    }
   ],
   "source": [
    "df_sample.head()"
   ]
  },
  {
   "cell_type": "code",
   "execution_count": 4,
   "metadata": {},
   "outputs": [
    {
     "data": {
      "text/plain": [
       "(23367, 12)"
      ]
     },
     "execution_count": 4,
     "metadata": {},
     "output_type": "execute_result"
    }
   ],
   "source": [
    "df_sample.shape"
   ]
  },
  {
   "cell_type": "code",
   "execution_count": 10,
   "metadata": {},
   "outputs": [],
   "source": [
    "df_sample.to_csv(\"sample.csv\")"
   ]
  },
  {
   "cell_type": "code",
   "execution_count": 11,
   "metadata": {},
   "outputs": [
    {
     "data": {
      "text/plain": [
       "count    1.355863e+06\n",
       "mean     1.920370e+03\n",
       "std      1.489079e+03\n",
       "min      2.468333e+02\n",
       "25%      1.065667e+03\n",
       "50%      1.593000e+03\n",
       "75%      2.006167e+03\n",
       "max      1.073850e+04\n",
       "Name: zone_load_total, dtype: float64"
      ]
     },
     "execution_count": 11,
     "metadata": {},
     "output_type": "execute_result"
    }
   ],
   "source": [
    "df.zone_load_total.describe()"
   ]
  },
  {
   "cell_type": "code",
   "execution_count": null,
   "metadata": {},
   "outputs": [],
   "source": []
  }
 ],
 "metadata": {
  "kernelspec": {
   "display_name": "Python 3",
   "language": "python",
   "name": "python3"
  },
  "language_info": {
   "codemirror_mode": {
    "name": "ipython",
    "version": 3
   },
   "file_extension": ".py",
   "mimetype": "text/x-python",
   "name": "python",
   "nbconvert_exporter": "python",
   "pygments_lexer": "ipython3",
   "version": "3.7.6"
  }
 },
 "nbformat": 4,
 "nbformat_minor": 2
}
